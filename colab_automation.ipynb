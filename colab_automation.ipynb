{
  "cells": [
    {
      "cell_type": "markdown",
      "metadata": {},
      "source": [
        "# 🤖 Job Application Automation - Google Colab Version\n",
        "\n",
        "This notebook runs your job application automation in Google Colab for free!\n",
        "\n",
        "## Features:\n",
        "- ✅ Completely free\n",
        "- ✅ Runs for up to 12 hours per session\n",
        "- ✅ Automatic job searching and applying\n",
        "- ✅ Email notifications\n",
        "- ✅ Notion integration\n",
        "- ✅ Google Drive integration\n",
        "\n",
        "## Setup Instructions:\n",
        "1. Run all cells in order\n",
        "2. Enter your API keys when prompted\n",
        "3. Let it run and check your email for notifications!\n"
      ]
    },
    {
      "cell_type": "code",
      "execution_count": null,
      "metadata": {},
      "outputs": [],
      "source": [
        "# Install required packages\n",
        "!pip install python-dotenv requests schedule openai beautifulsoup4 selenium reportlab python-docx PyPDF2 google-auth google-auth-oauthlib google-auth-httplib2 google-api-python-client\n"
      ]
    },
    {
      "cell_type": "code",
      "execution_count": null,
      "metadata": {},
      "outputs": [],
      "source": [
        "# Setup environment variables\n",
        "import os\n",
        "from getpass import getpass\n",
        "\n",
        "print(\"🔐 Please enter your API keys:\")\n",
        "print(\"(Press Enter to skip any optional keys)\")\n",
        "print()\n",
        "\n",
        "# Required keys\n",
        "openai_key = getpass(\"OpenAI API Key: \")\n",
        "gmail_user = input(\"Gmail Address: \")\n",
        "gmail_password = getpass(\"Gmail App Password: \")\n",
        "\n",
        "# Optional keys\n",
        "notion_token = getpass(\"Notion Token (optional): \")\n",
        "notion_db_id = input(\"Notion Database ID (optional): \")\n",
        "\n",
        "# Set environment variables\n",
        "os.environ['OPENAI_API_KEY'] = openai_key\n",
        "os.environ['GMAIL_USER'] = gmail_user\n",
        "os.environ['GMAIL_APP_PASSWORD'] = gmail_password\n",
        "os.environ['NOTION_TOKEN'] = notion_token or ''\n",
        "os.environ['NOTION_DATABASE_ID'] = notion_db_id or ''\n",
        "os.environ['CV_PRIMARY_URL'] = 'https://drive.google.com/file/d/1B19SyQeY_Lqjbapj1k7l66Vr9tCckcH7/view?usp=sharing'\n",
        "\n",
        "print(\"\\n✅ Environment variables set!\")\n"
      ]
    }
  ],
  "metadata": {
    "language_info": {
      "name": "python"
    }
  },
  "nbformat": 4,
  "nbformat_minor": 2
}
